{
 "cells": [
  {
   "cell_type": "markdown",
   "metadata": {},
   "source": [
    "# 01 - Exploratory Data Analysis (EDA)\n",
    "\n",
    "Welcome to the first notebook! Here, you'll explore the carbon emission dataset, understand its variables, and gain initial insights with data visualization."
   ]
  },
  {
   "cell_type": "markdown",
   "metadata": {},
   "source": [
    "## 1. Setup and Data Loading"
   ]
  },
  {
   "cell_type": "code",
   "metadata": {},
   "source": [
    "# Import required libraries\n",
    "import pandas as pd\n",
    "import numpy as np\n",
    "import matplotlib.pyplot as plt\n",
    "import seaborn as sns\n",
    "import plotly.express as px\n",
    "%matplotlib inline"
   ],
   "execution_count": null,
   "outputs": []
  },
  {
   "cell_type": "code",
   "metadata": {},
   "source": [
    "# Load the dataset\n",
    "df = pd.read_csv('../data/carbon_emission_ml_dataset.csv')\n",
    "df.head()"
   ],
   "execution_count": null,
   "outputs": []
  },
  {
   "cell_type": "markdown",
   "metadata": {},
   "source": [
    "## 2. Overview of the Data"
   ]
  },
  {
   "cell_type": "code",
   "metadata": {},
   "source": [
    "# Check dataset shape\n",
    "print(f\"Rows: {df.shape[0]}, Columns: {df.shape[1]}\")\n",
    "# Show info and data types\n",
    "df.info()"
   ],
   "execution_count": null,
   "outputs": []
  },
  {
   "cell_type": "code",
   "metadata": {},
   "source": [
    "# Show basic statistics for numerical columns\n",
    "df.describe().T"
   ],
   "execution_count": null,
   "outputs": []
  },
  {
   "cell_type": "code",
   "metadata": {},
   "source": [
    "# List unique countries and years\n",
    "print(\"Countries:\", df['country'].unique())\n",
    "print(\"Years:\", df['year'].unique())"
   ],
   "execution_count": null,
   "outputs": []
  },
  {
   "cell_type": "markdown",
   "metadata": {},
   "source": [
    "## 3. Missing Values and Duplicates"
   ]
  },
  {
   "cell_type": "code",
   "metadata": {},
   "source": [
    "# Check for missing values\n",
    "df.isnull().sum()"
   ],
   "execution_count": null,
   "outputs": []
  },
  {
   "cell_type": "code",
   "metadata": {},
   "source": [
    "# Check for duplicate rows\n",
    "df.duplicated().sum()"
   ],
   "execution_count": null,
   "outputs": []
  },
  {
   "cell_type": "markdown",
   "metadata": {},
   "source": [
    "## 4. Univariate Analysis\n",
    "\n",
    "Let's look at the distribution of key features."
   ]
  },
  {
   "cell_type": "code",
   "metadata": {},
   "source": [
    "# Histograms for main numeric columns\n",
    "numeric_cols = ['gdp_per_capita','energy_consumption','population',\n",
    "                'renewable_energy_pct','urban_pct','co2_emission_per_capita']\n",
    "df[numeric_cols].hist(bins=20, figsize=(15,10))\n",
    "plt.suptitle('Histograms of Numeric Features', fontsize=16)\n",
    "plt.tight_layout()\n",
    "plt.show()"
   ],
   "execution_count": null,
   "outputs": []
  },
  {
   "cell_type": "code",
   "metadata": {},
   "source": [
    "# Boxplots to check for outliers\n",
    "plt.figure(figsize=(15,6))\n",
    "sns.boxplot(data=df[numeric_cols])\n",
    "plt.title('Boxplot of Numeric Features')\n",
    "plt.show()"
   ],
   "execution_count": null,
   "outputs": []
  },
  {
   "cell_type": "markdown",
   "metadata": {},
   "source": [
    "## 5. Bivariate Analysis\n",
    "\n",
    "Relationships between features and the target."
   ]
  },
  {
   "cell_type": "code",
   "metadata": {},
   "source": [
    "# Pairplot to visualize feature relationships\n",
    "sns.pairplot(df, vars=numeric_cols, hue='country', corner=True)\n",
    "plt.suptitle('Pairplot of Features by Country', y=1.02)\n",
    "plt.show()"
   ],
   "execution_count": null,
   "outputs": []
  },
  {
   "cell_type": "code",
   "metadata": {},
   "source": [
    "# Correlation heatmap\n",
    "plt.figure(figsize=(10,7))\n",
    "sns.heatmap(df[numeric_cols].corr(), annot=True, cmap='coolwarm', fmt='.2f')\n",
    "plt.title('Correlation Matrix')\n",
    "plt.show()"
   ],
   "execution_count": null,
   "outputs": []
  },
  {
   "cell_type": "markdown",
   "metadata": {},
   "source": [
    "## 6. Interactive Visualizations\n",
    "\n",
    "Use Plotly for interactive exploration."
   ]
  },
  {
   "cell_type": "code",
   "metadata": {},
   "source": [
    "# Interactive scatter plot: GDP vs CO2 emissions\n",
    "fig = px.scatter(df, x='gdp_per_capita', y='co2_emission_per_capita', color='country',\n",
    "                 size='population', hover_data=['year'],\n",
    "                 title='GDP per Capita vs CO2 Emission per Capita')\n",
    "fig.show()"
   ],
   "execution_count": null,
   "outputs": []
  },
  {
   "cell_type": "code",
   "metadata": {},
   "source": [
    "# Interactive line plot: CO2 emission over time by country\n",
    "fig = px.line(df, x='year', y='co2_emission_per_capita', color='country', markers=True,\n",
    "              title='CO2 Emission per Capita Over Time')\n",
    "fig.show()"
   ],
   "execution_count": null,
   "outputs": []
  },
  {
   "cell_type": "markdown",
   "metadata": {},
   "source": [
    "## 7. Insights and Next Steps\n",
    "\n",
    "- Summarize your observations (e.g., which countries have higher/lower emissions, trends, correlations).\n",
    "- Note any data quality issues or features of interest for modeling.\n",
    "- Ready to move to modeling? Continue to the `02_model_training_and_comparison.ipynb` notebook."
   ]
  }
 ],
 "metadata": {
  "kernelspec": {
   "display_name": "Python 3",
   "language": "python",
   "name": "python3"
  },
  "language_info": {
   "name": "python",
   "version": "3.8"
  }
 },
 "nbformat": 4,
 "nbformat_minor": 2
}